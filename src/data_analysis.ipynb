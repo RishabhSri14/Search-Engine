{
 "cells": [
  {
   "cell_type": "code",
   "execution_count": 1,
   "metadata": {},
   "outputs": [],
   "source": [
    "import pandas as pd\n",
    "import numpy as np"
   ]
  },
  {
   "cell_type": "code",
   "execution_count": 2,
   "metadata": {},
   "outputs": [],
   "source": [
    "movie = pd.read_csv('../dataset/movie.csv')\n",
    "rating = pd.read_csv('../dataset/rating.csv')\n",
    "rating = rating.drop('timestamp', axis=1)"
   ]
  },
  {
   "cell_type": "code",
   "execution_count": null,
   "metadata": {},
   "outputs": [],
   "source": []
  },
  {
   "cell_type": "code",
   "execution_count": 3,
   "metadata": {},
   "outputs": [
    {
     "data": {
      "text/plain": [
       "(             movieId\n",
       " count   27278.000000\n",
       " mean    59855.480570\n",
       " std     44429.314697\n",
       " min         1.000000\n",
       " 25%      6931.250000\n",
       " 50%     68068.000000\n",
       " 75%    100293.250000\n",
       " max    131262.000000,\n",
       " (27278,))"
      ]
     },
     "execution_count": 3,
     "metadata": {},
     "output_type": "execute_result"
    }
   ],
   "source": [
    "movie.describe(), movie['movieId'].unique().shape"
   ]
  },
  {
   "cell_type": "code",
   "execution_count": 4,
   "metadata": {},
   "outputs": [
    {
     "data": {
      "text/plain": [
       "(Index(['userId', 'movieId', 'rating'], dtype='object'),\n",
       "              userId       movieId        rating\n",
       " count  2.000026e+07  2.000026e+07  2.000026e+07\n",
       " mean   6.904587e+04  9.041567e+03  3.525529e+00\n",
       " std    4.003863e+04  1.978948e+04  1.051989e+00\n",
       " min    1.000000e+00  1.000000e+00  5.000000e-01\n",
       " 25%    3.439500e+04  9.020000e+02  3.000000e+00\n",
       " 50%    6.914100e+04  2.167000e+03  3.500000e+00\n",
       " 75%    1.036370e+05  4.770000e+03  4.000000e+00\n",
       " max    1.384930e+05  1.312620e+05  5.000000e+00)"
      ]
     },
     "execution_count": 4,
     "metadata": {},
     "output_type": "execute_result"
    }
   ],
   "source": [
    "rating.keys(), rating.describe()\n"
   ]
  },
  {
   "cell_type": "code",
   "execution_count": 5,
   "metadata": {},
   "outputs": [
    {
     "data": {
      "text/html": [
       "<div>\n",
       "<style scoped>\n",
       "    .dataframe tbody tr th:only-of-type {\n",
       "        vertical-align: middle;\n",
       "    }\n",
       "\n",
       "    .dataframe tbody tr th {\n",
       "        vertical-align: top;\n",
       "    }\n",
       "\n",
       "    .dataframe thead th {\n",
       "        text-align: right;\n",
       "    }\n",
       "</style>\n",
       "<table border=\"1\" class=\"dataframe\">\n",
       "  <thead>\n",
       "    <tr style=\"text-align: right;\">\n",
       "      <th></th>\n",
       "      <th>userId</th>\n",
       "      <th>movieId</th>\n",
       "      <th>rating</th>\n",
       "    </tr>\n",
       "  </thead>\n",
       "  <tbody>\n",
       "    <tr>\n",
       "      <th>count</th>\n",
       "      <td>1.447209e+07</td>\n",
       "      <td>1.447209e+07</td>\n",
       "      <td>1.447209e+07</td>\n",
       "    </tr>\n",
       "    <tr>\n",
       "      <th>mean</th>\n",
       "      <td>4.987456e+04</td>\n",
       "      <td>9.032079e+03</td>\n",
       "      <td>3.525358e+00</td>\n",
       "    </tr>\n",
       "    <tr>\n",
       "      <th>std</th>\n",
       "      <td>2.896016e+04</td>\n",
       "      <td>1.975944e+04</td>\n",
       "      <td>1.052196e+00</td>\n",
       "    </tr>\n",
       "    <tr>\n",
       "      <th>min</th>\n",
       "      <td>1.000000e+00</td>\n",
       "      <td>1.000000e+00</td>\n",
       "      <td>5.000000e-01</td>\n",
       "    </tr>\n",
       "    <tr>\n",
       "      <th>25%</th>\n",
       "      <td>2.469100e+04</td>\n",
       "      <td>9.030000e+02</td>\n",
       "      <td>3.000000e+00</td>\n",
       "    </tr>\n",
       "    <tr>\n",
       "      <th>50%</th>\n",
       "      <td>4.994400e+04</td>\n",
       "      <td>2.174000e+03</td>\n",
       "      <td>3.500000e+00</td>\n",
       "    </tr>\n",
       "    <tr>\n",
       "      <th>75%</th>\n",
       "      <td>7.505100e+04</td>\n",
       "      <td>4.776000e+03</td>\n",
       "      <td>4.000000e+00</td>\n",
       "    </tr>\n",
       "    <tr>\n",
       "      <th>max</th>\n",
       "      <td>1.000000e+05</td>\n",
       "      <td>1.312600e+05</td>\n",
       "      <td>5.000000e+00</td>\n",
       "    </tr>\n",
       "  </tbody>\n",
       "</table>\n",
       "</div>"
      ],
      "text/plain": [
       "             userId       movieId        rating\n",
       "count  1.447209e+07  1.447209e+07  1.447209e+07\n",
       "mean   4.987456e+04  9.032079e+03  3.525358e+00\n",
       "std    2.896016e+04  1.975944e+04  1.052196e+00\n",
       "min    1.000000e+00  1.000000e+00  5.000000e-01\n",
       "25%    2.469100e+04  9.030000e+02  3.000000e+00\n",
       "50%    4.994400e+04  2.174000e+03  3.500000e+00\n",
       "75%    7.505100e+04  4.776000e+03  4.000000e+00\n",
       "max    1.000000e+05  1.312600e+05  5.000000e+00"
      ]
     },
     "execution_count": 5,
     "metadata": {},
     "output_type": "execute_result"
    }
   ],
   "source": [
    "rating_small = rating[rating['userId'] <= 100000]\n",
    "rating_small.describe()\n"
   ]
  },
  {
   "cell_type": "code",
   "execution_count": 6,
   "metadata": {},
   "outputs": [],
   "source": [
    "movies_present= rating_small['movieId'].unique()\n",
    "movies_present.shape\n",
    "movie_small = movie[movie['movieId'].isin(movies_present)]"
   ]
  },
  {
   "cell_type": "code",
   "execution_count": 7,
   "metadata": {},
   "outputs": [
    {
     "data": {
      "text/html": [
       "<div>\n",
       "<style scoped>\n",
       "    .dataframe tbody tr th:only-of-type {\n",
       "        vertical-align: middle;\n",
       "    }\n",
       "\n",
       "    .dataframe tbody tr th {\n",
       "        vertical-align: top;\n",
       "    }\n",
       "\n",
       "    .dataframe thead th {\n",
       "        text-align: right;\n",
       "    }\n",
       "</style>\n",
       "<table border=\"1\" class=\"dataframe\">\n",
       "  <thead>\n",
       "    <tr style=\"text-align: right;\">\n",
       "      <th></th>\n",
       "      <th>movieId</th>\n",
       "    </tr>\n",
       "  </thead>\n",
       "  <tbody>\n",
       "    <tr>\n",
       "      <th>count</th>\n",
       "      <td>24829.000000</td>\n",
       "    </tr>\n",
       "    <tr>\n",
       "      <th>mean</th>\n",
       "      <td>55315.805308</td>\n",
       "    </tr>\n",
       "    <tr>\n",
       "      <th>std</th>\n",
       "      <td>43557.260812</td>\n",
       "    </tr>\n",
       "    <tr>\n",
       "      <th>min</th>\n",
       "      <td>1.000000</td>\n",
       "    </tr>\n",
       "    <tr>\n",
       "      <th>25%</th>\n",
       "      <td>6306.000000</td>\n",
       "    </tr>\n",
       "    <tr>\n",
       "      <th>50%</th>\n",
       "      <td>58367.000000</td>\n",
       "    </tr>\n",
       "    <tr>\n",
       "      <th>75%</th>\n",
       "      <td>95521.000000</td>\n",
       "    </tr>\n",
       "    <tr>\n",
       "      <th>max</th>\n",
       "      <td>131260.000000</td>\n",
       "    </tr>\n",
       "  </tbody>\n",
       "</table>\n",
       "</div>"
      ],
      "text/plain": [
       "             movieId\n",
       "count   24829.000000\n",
       "mean    55315.805308\n",
       "std     43557.260812\n",
       "min         1.000000\n",
       "25%      6306.000000\n",
       "50%     58367.000000\n",
       "75%     95521.000000\n",
       "max    131260.000000"
      ]
     },
     "execution_count": 7,
     "metadata": {},
     "output_type": "execute_result"
    }
   ],
   "source": [
    "movie_small.describe()"
   ]
  },
  {
   "cell_type": "code",
   "execution_count": 8,
   "metadata": {},
   "outputs": [],
   "source": [
    "df = rating_small.merge(movie_small, on='movieId')\n",
    "df = df.dropna()\n",
    "df.drop_duplicates(inplace=True)"
   ]
  },
  {
   "cell_type": "code",
   "execution_count": 9,
   "metadata": {},
   "outputs": [
    {
     "data": {
      "text/plain": [
       "(             userId       movieId        rating\n",
       " count  1.447209e+07  1.447209e+07  1.447209e+07\n",
       " mean   4.987456e+04  9.032079e+03  3.525358e+00\n",
       " std    2.896016e+04  1.975944e+04  1.052196e+00\n",
       " min    1.000000e+00  1.000000e+00  5.000000e-01\n",
       " 25%    2.469100e+04  9.030000e+02  3.000000e+00\n",
       " 50%    4.994400e+04  2.174000e+03  3.500000e+00\n",
       " 75%    7.505100e+04  4.776000e+03  4.000000e+00\n",
       " max    1.000000e+05  1.312600e+05  5.000000e+00,\n",
       " (14472091, 5))"
      ]
     },
     "execution_count": 9,
     "metadata": {},
     "output_type": "execute_result"
    }
   ],
   "source": [
    "df.describe(), df.shape\n"
   ]
  },
  {
   "cell_type": "code",
   "execution_count": 10,
   "metadata": {},
   "outputs": [
    {
     "data": {
      "text/plain": [
       "{'Hamlet (2000)': [3598, 65665],\n",
       " 'Blackout (2007)': [66140, 85070],\n",
       " 'Chaos (2005)': [47254, 67459],\n",
       " 'Emma (1996)': [838, 26958],\n",
       " 'Casanova (2005)': [42015, 128862],\n",
       " '20,000 Leagues Under the Sea (1997)': [102190, 114130],\n",
       " 'Aladdin (1992)': [588, 114240],\n",
       " 'War of the Worlds (2005)': [34048, 64997],\n",
       " 'Clear History (2013)': [104155, 122940],\n",
       " 'Darling (2007)': [130062, 93279],\n",
       " 'Beneath (2013)': [104035, 115777],\n",
       " 'Paradise (2013)': [113459, 121586],\n",
       " 'Men with Guns (1997)': [1788, 26982],\n",
       " 'Offside (2006)': [48682, 80330]}"
      ]
     },
     "execution_count": 10,
     "metadata": {},
     "output_type": "execute_result"
    }
   ],
   "source": [
    "col1 = 'movieId'\n",
    "col2 = 'title'\n",
    "second_2 = df.drop_duplicates([col1, col2]).groupby(col2)[col1].count().sort_values(ascending=False)\n",
    "one_instance_to_be_removed=second_2[second_2 > 1]\n",
    "dic ={i:[] for i in one_instance_to_be_removed.index}\n",
    "for i,row in df.iterrows():\n",
    "    if row[col2] in dic and row[col1] not in dic[row[col2]]:\n",
    "        dic[row[col2]].append(row[col1])\n",
    "\n",
    "dic"
   ]
  },
  {
   "cell_type": "code",
   "execution_count": 11,
   "metadata": {},
   "outputs": [
    {
     "data": {
      "text/plain": [
       "(             userId       movieId        rating\n",
       " count  1.447169e+07  1.447169e+07  1.447169e+07\n",
       " mean   4.987455e+04  9.030551e+03  3.525370e+00\n",
       " std    2.896017e+04  1.975743e+04  1.052195e+00\n",
       " min    1.000000e+00  1.000000e+00  5.000000e-01\n",
       " 25%    2.469100e+04  9.030000e+02  3.000000e+00\n",
       " 50%    4.994300e+04  2.174000e+03  3.500000e+00\n",
       " 75%    7.505100e+04  4.776000e+03  4.000000e+00\n",
       " max    1.000000e+05  1.312600e+05  5.000000e+00,\n",
       " (14471692, 5))"
      ]
     },
     "execution_count": 11,
     "metadata": {},
     "output_type": "execute_result"
    }
   ],
   "source": [
    "list = [dic[i][-1] for i in dic.keys()]\n",
    "df = df[~df['movieId'].isin(list)]\n",
    "df.describe(), df.shape\n"
   ]
  },
  {
   "cell_type": "code",
   "execution_count": 12,
   "metadata": {},
   "outputs": [
    {
     "data": {
      "text/plain": [
       "((24815, 1),\n",
       "                                   title\n",
       " Pulp Fiction (1994)               48619\n",
       " Forrest Gump (1994)               47756\n",
       " Shawshank Redemption, The (1994)  45777\n",
       " Silence of the Lambs, The (1991)  45653\n",
       " Jurassic Park (1993)              43177)"
      ]
     },
     "execution_count": 12,
     "metadata": {},
     "output_type": "execute_result"
    }
   ],
   "source": [
    "movie_counts = pd.DataFrame(df[\"title\"].value_counts())\n",
    "movie_counts.shape,movie_counts.head()"
   ]
  },
  {
   "cell_type": "code",
   "execution_count": 13,
   "metadata": {},
   "outputs": [
    {
     "data": {
      "text/plain": [
       "((14324593, 5), (15282,))"
      ]
     },
     "execution_count": 13,
     "metadata": {},
     "output_type": "execute_result"
    }
   ],
   "source": [
    "rare_movies = movie_counts[movie_counts[\"title\"] <= 50].index\n",
    "common_movies = df[~df[\"title\"].isin(rare_movies)]\n",
    "common_movies.shape, rare_movies.shape"
   ]
  },
  {
   "cell_type": "code",
   "execution_count": 14,
   "metadata": {},
   "outputs": [
    {
     "data": {
      "text/html": [
       "<div>\n",
       "<style scoped>\n",
       "    .dataframe tbody tr th:only-of-type {\n",
       "        vertical-align: middle;\n",
       "    }\n",
       "\n",
       "    .dataframe tbody tr th {\n",
       "        vertical-align: top;\n",
       "    }\n",
       "\n",
       "    .dataframe thead th {\n",
       "        text-align: right;\n",
       "    }\n",
       "</style>\n",
       "<table border=\"1\" class=\"dataframe\">\n",
       "  <thead>\n",
       "    <tr style=\"text-align: right;\">\n",
       "      <th></th>\n",
       "      <th>userId</th>\n",
       "      <th>movieId</th>\n",
       "      <th>rating</th>\n",
       "      <th>title</th>\n",
       "      <th>genres</th>\n",
       "    </tr>\n",
       "  </thead>\n",
       "  <tbody>\n",
       "    <tr>\n",
       "      <th>0</th>\n",
       "      <td>1</td>\n",
       "      <td>2</td>\n",
       "      <td>3.5</td>\n",
       "      <td>Jumanji (1995)</td>\n",
       "      <td>Adventure|Children|Fantasy</td>\n",
       "    </tr>\n",
       "    <tr>\n",
       "      <th>1</th>\n",
       "      <td>5</td>\n",
       "      <td>2</td>\n",
       "      <td>3.0</td>\n",
       "      <td>Jumanji (1995)</td>\n",
       "      <td>Adventure|Children|Fantasy</td>\n",
       "    </tr>\n",
       "    <tr>\n",
       "      <th>2</th>\n",
       "      <td>13</td>\n",
       "      <td>2</td>\n",
       "      <td>3.0</td>\n",
       "      <td>Jumanji (1995)</td>\n",
       "      <td>Adventure|Children|Fantasy</td>\n",
       "    </tr>\n",
       "    <tr>\n",
       "      <th>3</th>\n",
       "      <td>29</td>\n",
       "      <td>2</td>\n",
       "      <td>3.0</td>\n",
       "      <td>Jumanji (1995)</td>\n",
       "      <td>Adventure|Children|Fantasy</td>\n",
       "    </tr>\n",
       "    <tr>\n",
       "      <th>4</th>\n",
       "      <td>34</td>\n",
       "      <td>2</td>\n",
       "      <td>3.0</td>\n",
       "      <td>Jumanji (1995)</td>\n",
       "      <td>Adventure|Children|Fantasy</td>\n",
       "    </tr>\n",
       "  </tbody>\n",
       "</table>\n",
       "</div>"
      ],
      "text/plain": [
       "   userId  movieId  rating           title                      genres\n",
       "0       1        2     3.5  Jumanji (1995)  Adventure|Children|Fantasy\n",
       "1       5        2     3.0  Jumanji (1995)  Adventure|Children|Fantasy\n",
       "2      13        2     3.0  Jumanji (1995)  Adventure|Children|Fantasy\n",
       "3      29        2     3.0  Jumanji (1995)  Adventure|Children|Fantasy\n",
       "4      34        2     3.0  Jumanji (1995)  Adventure|Children|Fantasy"
      ]
     },
     "execution_count": 14,
     "metadata": {},
     "output_type": "execute_result"
    }
   ],
   "source": [
    "# user_movie_df = common_movies.pivot_table(index=[\"userId\"], columns=[\"title\"], values=\"rating\")\n",
    "# user_movie_df.shape\n",
    "common_movies.head()"
   ]
  },
  {
   "cell_type": "code",
   "execution_count": 15,
   "metadata": {},
   "outputs": [
    {
     "ename": "",
     "evalue": "",
     "output_type": "error",
     "traceback": [
      "\u001b[1;31mThe Kernel crashed while executing code in the the current cell or a previous cell. Please review the code in the cell(s) to identify a possible cause of the failure. Click <a href='https://aka.ms/vscodeJupyterKernelCrash'>here</a> for more info. View Jupyter <a href='command:jupyter.viewOutput'>log</a> for further details."
     ]
    }
   ],
   "source": [
    "common_movies.to_csv('processed_data.csv', index=False)"
   ]
  },
  {
   "cell_type": "code",
   "execution_count": null,
   "metadata": {},
   "outputs": [],
   "source": []
  }
 ],
 "metadata": {
  "kernelspec": {
   "display_name": "base",
   "language": "python",
   "name": "python3"
  },
  "language_info": {
   "codemirror_mode": {
    "name": "ipython",
    "version": 3
   },
   "file_extension": ".py",
   "mimetype": "text/x-python",
   "name": "python",
   "nbconvert_exporter": "python",
   "pygments_lexer": "ipython3",
   "version": "3.10.9"
  },
  "orig_nbformat": 4
 },
 "nbformat": 4,
 "nbformat_minor": 2
}
